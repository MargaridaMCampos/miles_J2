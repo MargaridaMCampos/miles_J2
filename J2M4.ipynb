{
 "cells": [
  {
   "cell_type": "markdown",
   "metadata": {},
   "source": [
    "# Keep Calm: It's just a Linear Model!\n",
    "\n",
    "In this Mission you will learn all about Linear Regression and Feature Engineering!\n",
    "\n",
    "<img src=\"https://www.mihaileric.com/static/linear_regression_joke-9400ea8c70e0500f1934f7a22c86bc68-b75a8.png\" alt=\"\" style=\"width: 40%\"/>"
   ]
  },
  {
   "cell_type": "code",
   "execution_count": 1,
   "metadata": {},
   "outputs": [],
   "source": [
    "import numpy as np\n",
    "import pandas as pd\n",
    "import matplotlib.pyplot as plt\n",
    "import seaborn as sns"
   ]
  },
  {
   "cell_type": "markdown",
   "metadata": {},
   "source": [
    "## The Data\n",
    "\n",
    "You'll be working with a dataset containing information about houses sold in Ames, Iowa, USA. Imagine you are a data scientist in a real estate company,and your target is: Sale Price - you want to predict, based on a house's characteristics, what price it will be sold for.\n",
    "\n",
    "Dataset features: \n",
    " - `PID`: id, identifying house\n",
    " - `MS Zoning`: contains information about the zone the house is located in, levels:\n",
    "  - A: Agriculture\n",
    "  - C: Commercial\n",
    "  - FV: Floating Village Residential\n",
    "  - I: Industrial\n",
    "  - RH: Residential High Density\n",
    "  - RL: Residential Low Density\n",
    "  - RM: Residential Medium Density\n",
    " - `Lot Frontage`: linear feet of street connected to property\n",
    " - `Lot Area`: lot size in square feet\n",
    " - `Overall Qual`: rates the overall material and finish of the house\n",
    " - `Full Bath`: number of full bathrooms\n",
    " - `Foundation`: type of foundation. Levels:\n",
    "     - BrkTil: Brick & Tile\n",
    "     - CBlock: Cinder Block\n",
    "     - PConc: Poured Contrete\n",
    "     - Slab: Slab\n",
    "     - Stone: Stone\n",
    "     - Wood: Wood\n",
    " - `Year Built`: year the house was built\n",
    " - `Yr Sold`: year the house was sold\n",
    " - `Neighborhood`: physical locations within Ames city limits\n",
    " - `Kitchen AbvGr`: number of kitchens\n",
    " - `Bedroom AbvGr`: number of bedrooms\n",
    " - `SalePrice`: **target** - the price the house was sold for (in USD)\n",
    " \n",
    "### Load Data"
   ]
  },
  {
   "cell_type": "code",
   "execution_count": 2,
   "metadata": {},
   "outputs": [],
   "source": [
    "df = pd.read_csv('houses.csv')"
   ]
  },
  {
   "cell_type": "markdown",
   "metadata": {},
   "source": [
    "### Split data in Train and Test sets"
   ]
  },
  {
   "cell_type": "code",
   "execution_count": 3,
   "metadata": {},
   "outputs": [],
   "source": [
    "from sklearn.model_selection import train_test_split\n",
    "\n",
    "df_train, df_test = train_test_split(df,\n",
    "                                     test_size=0.3, \n",
    "                                     random_state=42)"
   ]
  },
  {
   "cell_type": "markdown",
   "metadata": {},
   "source": [
    "## Tasks:\n",
    "\n",
    "Always start by taking a look at the dataset, getting familair with the variables and check any data issues, before diving into the problem.\n",
    "\n",
    "### 1. Implement a simple Linear Regression.\n",
    "\n",
    "Useful functions:\n",
    " - [mean_squared_error](https://scikit-learn.org/stable/modules/generated/sklearn.metrics.mean_squared_error.html)\n",
    " - [LinearRegression](https://scikit-learn.org/stable/modules/generated/sklearn.linear_model.LinearRegression.html)\n",
    "\n",
    "\n",
    "In this task, your goal is to implement a simple linear regression to predict `SalePrice` given `Lot Area`, i.e., to find coefficients for equation: \n",
    "\n",
    "$$\\hat{y} = mx + b$$\n",
    "\n",
    "where: $\\hat{y}$ is the predicted `SalePrice`, $m$ is the slope of the line, $x$ is `Lot Area` and $b$ is the bias (a constant). The optimal coefficients are the ones that minimize your **cost/loss** function. \n",
    "\n",
    "**Steps:**\n",
    "\n",
    " 1. **Plot** the relationship between `Lot Area` and `SalePrice`\n",
    " 2. Does there seem to be a **correlation**? If yes, is it positive or negative? What does that tell you about the value of $m$ (slope).\n",
    " 3. Use provided function `plot_line` with different values of `slope` and `bias`, what pair of values would you choose based on your experiments and intuition?\n",
    " 4. Get **predictions** for your training set (`df_train['Lot Area']`) using your guess of `slope` and `bias`, store it in a variable called `pred_guess`.\n",
    " 5. Compute the **Mean Squared Error(MSE)** between the true values `df_train['SalePrice]` and the predicted values `pred_guess`. \n",
    " 6. Fit a Linear Regression model on your training data using Sklearn's `Linear Regression`.\n",
    " 7. What is the equation of the fitted line? *Hint:* check your model's `.coef_` and `.intercept_` attributes in the documentation.\n",
    " 8. Plot your fitted line using `plot_line` with the appropriate parameters.\n",
    " 9. Get predictions for your training set and compute the MSE between the predictions and the true values.\n",
    " 10. Compare the MSE with the one obtained with your initial guess."
   ]
  },
  {
   "cell_type": "code",
   "execution_count": 4,
   "metadata": {},
   "outputs": [],
   "source": [
    "'''\n",
    "Plots the a scatterplot of SalePrice against Lot Area, a regression line and vertical lines\n",
    "representing the error (distance) between predicted value and actual value for a sample of points.\n",
    " Receives:\n",
    "     - slope: slope of the regression line\n",
    "     - bias: bias of the regression line\n",
    "'''\n",
    "def plot_line(slope, bias):\n",
    "    ax = sns.scatterplot(data = df_train, x = 'Lot Area', y = 'SalePrice')\n",
    "    x = np.array([0,6000])\n",
    "    ax.plot(x, slope*x + bias, c = 'r', label = 'Prediction')\n",
    "    sample = df_train.sample(20)\n",
    "    x = sample['Lot Area']\n",
    "    ax.plot([x,x],[sample['SalePrice'],slope*x + bias], c='purple')\n",
    "    p = df_train.loc[2518]\n",
    "    x = p['Lot Area']\n",
    "    ax.plot([x,x],[p['SalePrice'],slope*x + bias], c='purple', label = 'Error')\n",
    "    plt.legend()"
   ]
  },
  {
   "cell_type": "markdown",
   "metadata": {},
   "source": [
    "### 2. Multiple Linear Regression\n",
    "\n",
    "Multiple Linear Regression is the name given to a Linear Regression done on two or more features. The idea is the same:\n",
    "\n",
    "$$\\hat{y} = m_1x_1 + m_2x_2 + ... + m_px_p + b $$\n",
    "\n",
    "our prediction will be a linear combination of features $x_i$ ($p$ features) and $b$ is the bias (constant).\n",
    "\n",
    "**Steps:**\n",
    "\n",
    "1. Fit a new linear regression model, now including features: `'Lot Area', 'Overall Qual','Full Bath','Bedroom AbvGr','Year Built', 'Yr Sold'`\n",
    "2. Make predictions with the new model for your training set. \n",
    "3. Get the MSE with the new predictions.\n",
    "4. Did adding the new features help? "
   ]
  },
  {
   "cell_type": "markdown",
   "metadata": {},
   "source": [
    "### 3. Regularization Techniques\n",
    "\n",
    "Useful functions:\n",
    " - [Ridge()](https://scikit-learn.org/stable/modules/generated/sklearn.linear_model.Ridge.html)\n",
    " - [Lasso()](https://scikit-learn.org/stable/modules/generated/sklearn.linear_model.Lasso.html)\n",
    " - [ElasticNet()](https://scikit-learn.org/stable/modules/generated/sklearn.linear_model.ElasticNet.html)\n",
    " \n",
    "**Steps:** \n",
    " 1. Fit 3 new linear regressions on the same training data from the previous task: one with Ridge regularization, one with Lasso regularizaton and one with ElasticNet regularization\n",
    " 2. Make predictions for both training and test sets using the 3 different models.\n",
    " 3. Compare the MSEs on the training set predictions. Did any regularization help?\n",
    " 4. Compare the MSEs on the test set predictions. Did any regularization help? \n",
    " 5. (Optional:) Try different values for the regularizations' parameter `alpha` and see, if and how it impacts results.\n",
    "\n",
    "**Remember:** regularization is used to prevent models from overfitting on the training set - it is normal that performance on the training set gets worse. Whether or not you should use regularization, and the type of regularization to use depends on the particular task at hand!"
   ]
  },
  {
   "cell_type": "markdown",
   "metadata": {},
   "source": [
    "### 4. Feature Engineering\n",
    "\n",
    "Useful Functions:\n",
    "\n",
    " - [SimpleImputer()](https://scikit-learn.org/stable/modules/generated/sklearn.impute.SimpleImputer.html)\n",
    " - [KNNImputer()](https://scikit-learn.org/stable/modules/generated/sklearn.impute.KNNImputer.html)\n",
    " - [StandardScaler()](https://scikit-learn.org/stable/modules/generated/sklearn.preprocessing.StandardScaler.html)\n",
    " - [MinMaxScaler()](https://scikit-learn.org/stable/modules/generated/sklearn.preprocessing.MinMaxScaler.html)\n",
    " - [RobustScaler()](https://scikit-learn.org/stable/modules/generated/sklearn.preprocessing.RobustScaler.html)\n",
    " - [OneHotEncoder()](https://scikit-learn.org/stable/modules/generated/sklearn.preprocessing.OneHotEncoder.html)"
   ]
  },
  {
   "cell_type": "markdown",
   "metadata": {},
   "source": [
    "**Steps:**\n",
    "\n",
    " 1. **Imputation**\n",
    "     1. Check (if you haven't already 🤓) if your training dataset has null values. In which columns? Are the columns of the same type (numerical vs categorical)? \n",
    "     1. Split your training dataset `df_train` into three: one containing only the numerical features (name it `df_train_num`), one containing only the categorical features - without`PID` which is an id and not a feature -  (`df_train_cat`) and one with the target (`y_train`). 🧐**Attention:**\n",
    "     2. Repeat step 1. for the testing dataset `df_test` (replacing `train` for `test`!)\n",
    "     3. Import `SimpleImputer` from Sklearn and create two imputers: `imputer_num` and `imputer_cat`.\n",
    "     4. Fit your imputer `imputer_num` on your numrical training data `df_train_num`, choosing an appropriate `strategy`. (Check the documentation and remember we are dealing with **numerical** variables.)\n",
    "     5. Fit your imputer `imputer_cat` on your categorical **training data** `df_train_cat`, choosing an appropriate `strategy`. (we are dealing with **categorical** variables now!).\n",
    "     6. Impute null values of both training and test numerical datasets (`df_train_num` and `df_test_num`) and store the new transformed data in the same variables, *i.e.,* `df_train_num` will now be the imputed version (`df_train_num = imputer_num.transform(df_train_num)`) \n",
    "     7. Repeat step 6. but now for the categorical data, now using `imputer_cat` and the categorical dataframes.\n",
    " 2. **Scaling**\n",
    "     1. Import a scaler of your choice and `fit` it on the numerical training data (`df_train_num`). *Hint:*`scaler = ...() scaler.fit()`\n",
    "     2. Scale your `df_train_num` data and name the scaled version `df_train_num_scaled`. *Hint:*`scaler.transform()`\n",
    "     3. Scale your `df_test_num` data and name the scaled version `df_test_num_scaled`. **REMEMBER:** Do not fit the scaler on the test data!!\n",
    " 3. **Encoding**\n",
    "     1. Import `OneHotEncoder` from sklearn and instatiate it `ohe = OneHotEncoder(sparse=False)`. (🤓 the `sparse = False` argument keeps the encoder from returning a sparse array - a special type of array useful to speed computations. Do not worry about this for now)\n",
    "     2. Fit your encoder on your categorical training data (`df_train_cat`). *Hint: `ohe.fit(...)`*\n",
    "     3. Encode both training and test categorical data with your encoder (`ohe.transform(...)`) and store the encoded versions in `df_train_ohe` and `df_test_ohe`. \n",
    "     4. Check the shapes of `df_train_ohe` and `df_test_ohe`. Do they make sense to you? Check the number of levels of your categorical features (💭 `.value_counts()`)\n",
    " 4. **Putting it all together** \n",
    "     1. We have now processed both categorical and numerical variables - separately. Notice how Sklearn transformations output **arrays** and not dataframes. (Worry not - we still have our features' names, we'll get them later!)\n",
    "     2. Let's \"glue\" our numerical and categorical variables back together into new variables `df_train_proc` and `df_test_porc`, so we can use them to train a model. We can use numpy's `hstack` function:\n",
    "     \n",
    "     ```df_train_proc = np.hstack((df_train_num_scaled, df_train_ohe)) \n",
    "      df_test_proc = np.hstack((df_test_num_scaled, df_test_ohe))```\n",
    "     3. Fit a new `Ridge()` model, `ridge_all = Ridge()`, on all the processed features (`df_train_proc`). *Hint:* you need to pass the target to the `.fit()`method - the target is the same as before (`y_train`)\n",
    "     4. Make predictions on both train and test sets using your `ridge_all` trained model.\n",
    "     5. Compute the MSE for both train and test predictions. \n",
    "     6. Compare the performance of this model - that uses all features - with your previous best model."
   ]
  },
  {
   "cell_type": "markdown",
   "metadata": {},
   "source": [
    "### 5. Feature Importance\n",
    "\n",
    "Let's look at feature importance - which features impact our model's predictions the most. \n",
    "\n",
    "An adavantage of using Linear Regression is the model's **interpretability**: by looing at our model's coefficients we can see which features are being given a greater importance. **Remark:** this is only true because we scaled our data, otherwise coefficients wouldn't be comparable. \n",
    "\n",
    " - Positive coefficients: increase in that feature, increases our target prediction\n",
    " - Negative coefficients: increase in that feature, decreases our target prediction\n",
    "\n",
    "The larger the absolute value (magnitude, independent of positive or negative direction) of our coefficient, the bigger the importance the respective feature as for our model! \n",
    "\n",
    "\n",
    "👀🤔 **No need to code on this one!**\n",
    "\n",
    "Let's look at the coefficients of our final model, by running the code below:"
   ]
  },
  {
   "cell_type": "code",
   "execution_count": 92,
   "metadata": {},
   "outputs": [
    {
     "data": {
      "image/png": "[encoded data removed]",
      "text/plain": [
       "<Figure size 1080x432 with 1 Axes>"
      ]
     },
     "metadata": {
      "needs_background": "light"
     },
     "output_type": "display_data"
    }
   ],
   "source": [
    "# getting feature names out of the preprocessors and glueing them together, along with their respective coefficients\n",
    "coefs = pd.DataFrame({'feature': np.hstack((imputer_num.feature_names_in_, ohe.get_feature_names_out())),\n",
    "                      'coef': ridge_all.coef_})\n",
    "\n",
    "# plotting each feature's coefficient value - sorted descendingly\n",
    "plt.figure(figsize=(15,6))\n",
    "\n",
    "sns.barplot(data = coefs.sort_values(by = 'coef', ascending = False), x = 'feature', y = 'coef')\n",
    "plt.xticks(rotation=45, ha='right');"
   ]
  },
  {
   "cell_type": "markdown",
   "metadata": {},
   "source": [
    "**Questions:**\n",
    "\n",
    "Looking at the plot:\n",
    " - What categorical feature would you say is more important for your model?\n",
    " - What about the most important numerical feature?\n",
    " - An increase in Lot Area will increase or decrease the SalePrice prediction?\n",
    " - Do you think a house being in an Industrial block (`MS Zoning = I`) impacts the SalePrice?"
   ]
  }
 ],
 "metadata": {
  "kernelspec": {
   "display_name": "Python 3",
   "language": "python",
   "name": "python3"
  },
  "language_info": {
   "codemirror_mode": {
    "name": "ipython",
    "version": 3
   },
   "file_extension": ".py",
   "mimetype": "text/x-python",
   "name": "python",
   "nbconvert_exporter": "python",
   "pygments_lexer": "ipython3",
   "version": "3.8.3"
  }
 },
 "nbformat": 4,
 "nbformat_minor": 4
}
