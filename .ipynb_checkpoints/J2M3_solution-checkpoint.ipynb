{
 "cells": [
  {
   "cell_type": "markdown",
   "metadata": {},
   "source": [
    "# Love Thy Neighbour\n",
    "\n",
    "In this Mission you'll learn all about distances between data points and how we can take insights from each point's neighbours. You will also learn two new models:\n",
    "\n",
    " - KNN for Classification\n",
    " - K-Means for Clustering"
   ]
  },
  {
   "cell_type": "code",
   "execution_count": 1,
   "metadata": {},
   "outputs": [],
   "source": [
    "import numpy as np\n",
    "import pandas as pd\n",
    "import matplotlib.pyplot as plt"
   ]
  },
  {
   "cell_type": "markdown",
   "metadata": {},
   "source": [
    "## The Dataset\n",
    "\n",
    "The provided dataset contains information about **penguins**:\n",
    " - `species`: (string) the penguin's species\n",
    " - `island`: (string) the penguin's origin island\n",
    " - `culmen_length_mm`: (number) culmen's length in milimiters \n",
    " - `culmen_depth_mm`: (number) culmen's depth in milimiters \n",
    " - `flipper_length_mm`: (number) flipper's length in milimiters\n",
    " - `body_mass_g`: (number) penguin's mass in grams\n",
    " - `is_male`: (integer) whether the penguin is male (1) or female (0)\n",
    " \n",
    "### Load the data"
   ]
  },
  {
   "cell_type": "code",
   "execution_count": 62,
   "metadata": {},
   "outputs": [],
   "source": [
    "train_df = pd.read_csv('penguins_train.csv')"
   ]
  },
  {
   "cell_type": "markdown",
   "metadata": {},
   "source": [
    "## Tasks\n",
    "\n",
    "Always start by taking a look at the dataset, getting familair with the variables and check any data issues, before diving into the problem."
   ]
  },
  {
   "cell_type": "markdown",
   "metadata": {},
   "source": [
    "## 1. Let's get different distances between all our points.\n",
    "#### 1.1 Create a new dataframe with only the numerical columns"
   ]
  },
  {
   "cell_type": "code",
   "execution_count": 81,
   "metadata": {},
   "outputs": [],
   "source": [
    "# Selecting only numerical columns\n",
    "numerical_columns = ['culmen_length_mm', 'culmen_depth_mm',\n",
    "                     'flipper_length_mm', 'body_mass_g']\n",
    "df_num = train_df[numerical_columns]"
   ]
  },
  {
   "cell_type": "markdown",
   "metadata": {},
   "source": [
    "#### 1.2. Create a new dataframe, called `all_comb` with all the combinations of pairs of points, *i.e.,* a dataframe with the following columns: \n",
    "**Question**: How many rows do you expect the dataframe to have?\n",
    "```\n",
    "['index_x', 'culmen_length_mm_x', 'culmen_depth_mm_x',\n",
    "'flipper_length_mm_x', 'body_mass_g_x', 'index_y', 'culmen_length_mm_y',\n",
    "'culmen_depth_mm_y', 'flipper_length_mm_y', 'body_mass_g_y']\n",
    "```\n",
    "\n",
    "*Hint:* Check `pd.merge` with parameter `how = 'cross'` and use `.reset_index()` to keep the original indexes of the points."
   ]
  },
  {
   "cell_type": "code",
   "execution_count": 64,
   "metadata": {},
   "outputs": [],
   "source": [
    "all_comb = df_num.reset_index().merge(df_num.reset_index(), how = 'cross')"
   ]
  },
  {
   "cell_type": "markdown",
   "metadata": {},
   "source": [
    "#### 1.3. Build a function that receives a row of the dataframe `all_comb` and outputs the two points you want to measure distance between. That is:\n",
    " - point A should have info about `'culmen_length_mm_x', 'culmen_depth_mm_x','flipper_length_mm_x', 'body_mass_g_x'`\n",
    " - point B should have info about `'culmen_length_mm_y', 'culmen_depth_mm_y','flipper_length_mm_y', 'body_mass_g_y'`\n",
    " \n",
    "*Hint:* Use `.to_numpy()` to turn a series into a numpy array."
   ]
  },
  {
   "cell_type": "code",
   "execution_count": 65,
   "metadata": {},
   "outputs": [],
   "source": [
    "def get_points(row):\n",
    "    point_a = row[['culmen_length_mm_x', 'culmen_depth_mm_x',\n",
    "                   'flipper_length_mm_x', 'body_mass_g_x']].to_numpy()\n",
    "    point_b = row[['culmen_length_mm_y', 'culmen_depth_mm_y',\n",
    "                   'flipper_length_mm_y', 'body_mass_g_y']].to_numpy()\n",
    "    return point_a, point_b"
   ]
  },
  {
   "cell_type": "markdown",
   "metadata": {},
   "source": [
    "#### 1.4. Build 3 functions corresponding to 3 different distances: they should receive a row of `all_comb` and output the corresponding distance from the two point in a row"
   ]
  },
  {
   "cell_type": "code",
   "execution_count": 66,
   "metadata": {},
   "outputs": [],
   "source": [
    "from scipy.spatial.distance import cosine\n",
    "\n",
    "def manhattan_distance(row):\n",
    "    point_a, point_b = get_points(row)\n",
    "    return np.abs(point_b-point_a).sum()\n",
    "\n",
    "def euclidean_distance(row):\n",
    "    point_a, point_b = get_points(row)\n",
    "    return np.sqrt(((point_b-point_a)**2).sum())\n",
    "\n",
    "def cosine_distance(row):\n",
    "    point_a, point_b = get_points(row)\n",
    "    return cosine(point_a,point_b)"
   ]
  },
  {
   "cell_type": "markdown",
   "metadata": {},
   "source": [
    "#### 1.5. Create 3 new columns with the different distances between the points by `apply`ing your functions to the `all_comb` rows.\n",
    "Note: It can take some time to run - your doing a lot of calculations!"
   ]
  },
  {
   "cell_type": "code",
   "execution_count": 67,
   "metadata": {},
   "outputs": [],
   "source": [
    "all_comb['l1_dist'] = all_comb.apply(manhattan_distance, axis = 1)\n",
    "all_comb['l2_dist'] = all_comb.apply(euclidean_distance, axis = 1)\n",
    "all_comb['cosine_dist'] = all_comb.apply(cosine_distance, axis = 1)"
   ]
  },
  {
   "cell_type": "markdown",
   "metadata": {},
   "source": [
    "## 2. Getting a point's neighbors \n",
    "#### 2.1 Get the 5 closest points to the penguin with original `index_x = 10` (using a distance of your choice).\n",
    "*Note:* the closest point will always be the point itself with a distance of 0."
   ]
  },
  {
   "cell_type": "code",
   "execution_count": 68,
   "metadata": {},
   "outputs": [
    {
     "data": {
      "text/html": [
       "<div>\n",
       "<style scoped>\n",
       "    .dataframe tbody tr th:only-of-type {\n",
       "        vertical-align: middle;\n",
       "    }\n",
       "\n",
       "    .dataframe tbody tr th {\n",
       "        vertical-align: top;\n",
       "    }\n",
       "\n",
       "    .dataframe thead th {\n",
       "        text-align: right;\n",
       "    }\n",
       "</style>\n",
       "<table border=\"1\" class=\"dataframe\">\n",
       "  <thead>\n",
       "    <tr style=\"text-align: right;\">\n",
       "      <th></th>\n",
       "      <th>index_x</th>\n",
       "      <th>culmen_length_mm_x</th>\n",
       "      <th>culmen_depth_mm_x</th>\n",
       "      <th>flipper_length_mm_x</th>\n",
       "      <th>body_mass_g_x</th>\n",
       "      <th>index_y</th>\n",
       "      <th>culmen_length_mm_y</th>\n",
       "      <th>culmen_depth_mm_y</th>\n",
       "      <th>flipper_length_mm_y</th>\n",
       "      <th>body_mass_g_y</th>\n",
       "      <th>l1_dist</th>\n",
       "      <th>l2_dist</th>\n",
       "      <th>cosine_dist</th>\n",
       "    </tr>\n",
       "  </thead>\n",
       "  <tbody>\n",
       "    <tr>\n",
       "      <th>2840</th>\n",
       "      <td>10</td>\n",
       "      <td>38.7</td>\n",
       "      <td>19.0</td>\n",
       "      <td>195.0</td>\n",
       "      <td>3450.0</td>\n",
       "      <td>10</td>\n",
       "      <td>38.7</td>\n",
       "      <td>19.0</td>\n",
       "      <td>195.0</td>\n",
       "      <td>3450.0</td>\n",
       "      <td>0.0</td>\n",
       "      <td>0.000000</td>\n",
       "      <td>0.000000e+00</td>\n",
       "    </tr>\n",
       "    <tr>\n",
       "      <th>2950</th>\n",
       "      <td>10</td>\n",
       "      <td>38.7</td>\n",
       "      <td>19.0</td>\n",
       "      <td>195.0</td>\n",
       "      <td>3450.0</td>\n",
       "      <td>120</td>\n",
       "      <td>36.0</td>\n",
       "      <td>17.8</td>\n",
       "      <td>195.0</td>\n",
       "      <td>3450.0</td>\n",
       "      <td>3.9</td>\n",
       "      <td>2.954657</td>\n",
       "      <td>3.654557e-07</td>\n",
       "    </tr>\n",
       "    <tr>\n",
       "      <th>2833</th>\n",
       "      <td>10</td>\n",
       "      <td>38.7</td>\n",
       "      <td>19.0</td>\n",
       "      <td>195.0</td>\n",
       "      <td>3450.0</td>\n",
       "      <td>3</td>\n",
       "      <td>36.7</td>\n",
       "      <td>19.3</td>\n",
       "      <td>193.0</td>\n",
       "      <td>3450.0</td>\n",
       "      <td>4.3</td>\n",
       "      <td>2.844293</td>\n",
       "      <td>3.379882e-07</td>\n",
       "    </tr>\n",
       "    <tr>\n",
       "      <th>2865</th>\n",
       "      <td>10</td>\n",
       "      <td>38.7</td>\n",
       "      <td>19.0</td>\n",
       "      <td>195.0</td>\n",
       "      <td>3450.0</td>\n",
       "      <td>35</td>\n",
       "      <td>36.0</td>\n",
       "      <td>17.9</td>\n",
       "      <td>190.0</td>\n",
       "      <td>3450.0</td>\n",
       "      <td>8.8</td>\n",
       "      <td>5.787918</td>\n",
       "      <td>1.398577e-06</td>\n",
       "    </tr>\n",
       "    <tr>\n",
       "      <th>2869</th>\n",
       "      <td>10</td>\n",
       "      <td>38.7</td>\n",
       "      <td>19.0</td>\n",
       "      <td>195.0</td>\n",
       "      <td>3450.0</td>\n",
       "      <td>39</td>\n",
       "      <td>35.0</td>\n",
       "      <td>17.9</td>\n",
       "      <td>190.0</td>\n",
       "      <td>3450.0</td>\n",
       "      <td>9.8</td>\n",
       "      <td>6.316645</td>\n",
       "      <td>1.666286e-06</td>\n",
       "    </tr>\n",
       "    <tr>\n",
       "      <th>2969</th>\n",
       "      <td>10</td>\n",
       "      <td>38.7</td>\n",
       "      <td>19.0</td>\n",
       "      <td>195.0</td>\n",
       "      <td>3450.0</td>\n",
       "      <td>139</td>\n",
       "      <td>46.4</td>\n",
       "      <td>18.6</td>\n",
       "      <td>190.0</td>\n",
       "      <td>3450.0</td>\n",
       "      <td>13.1</td>\n",
       "      <td>9.189668</td>\n",
       "      <td>3.534470e-06</td>\n",
       "    </tr>\n",
       "  </tbody>\n",
       "</table>\n",
       "</div>"
      ],
      "text/plain": [
       "      index_x  culmen_length_mm_x  culmen_depth_mm_x  flipper_length_mm_x  \\\n",
       "2840       10                38.7               19.0                195.0   \n",
       "2950       10                38.7               19.0                195.0   \n",
       "2833       10                38.7               19.0                195.0   \n",
       "2865       10                38.7               19.0                195.0   \n",
       "2869       10                38.7               19.0                195.0   \n",
       "2969       10                38.7               19.0                195.0   \n",
       "\n",
       "      body_mass_g_x  index_y  culmen_length_mm_y  culmen_depth_mm_y  \\\n",
       "2840         3450.0       10                38.7               19.0   \n",
       "2950         3450.0      120                36.0               17.8   \n",
       "2833         3450.0        3                36.7               19.3   \n",
       "2865         3450.0       35                36.0               17.9   \n",
       "2869         3450.0       39                35.0               17.9   \n",
       "2969         3450.0      139                46.4               18.6   \n",
       "\n",
       "      flipper_length_mm_y  body_mass_g_y  l1_dist   l2_dist   cosine_dist  \n",
       "2840                195.0         3450.0      0.0  0.000000  0.000000e+00  \n",
       "2950                195.0         3450.0      3.9  2.954657  3.654557e-07  \n",
       "2833                193.0         3450.0      4.3  2.844293  3.379882e-07  \n",
       "2865                190.0         3450.0      8.8  5.787918  1.398577e-06  \n",
       "2869                190.0         3450.0      9.8  6.316645  1.666286e-06  \n",
       "2969                190.0         3450.0     13.1  9.189668  3.534470e-06  "
      ]
     },
     "execution_count": 68,
     "metadata": {},
     "output_type": "execute_result"
    }
   ],
   "source": [
    "close_points = all_comb[all_comb['index_x']==10].sort_values(by = 'l1_dist').head(6)\n",
    "close_points"
   ]
  },
  {
   "cell_type": "markdown",
   "metadata": {},
   "source": [
    "#### 2.2. Using the indexes from the obtained points, check the original dataframe (with categorical features) to see if there is a pattern."
   ]
  },
  {
   "cell_type": "code",
   "execution_count": 69,
   "metadata": {},
   "outputs": [
    {
     "data": {
      "text/html": [
       "<div>\n",
       "<style scoped>\n",
       "    .dataframe tbody tr th:only-of-type {\n",
       "        vertical-align: middle;\n",
       "    }\n",
       "\n",
       "    .dataframe tbody tr th {\n",
       "        vertical-align: top;\n",
       "    }\n",
       "\n",
       "    .dataframe thead th {\n",
       "        text-align: right;\n",
       "    }\n",
       "</style>\n",
       "<table border=\"1\" class=\"dataframe\">\n",
       "  <thead>\n",
       "    <tr style=\"text-align: right;\">\n",
       "      <th></th>\n",
       "      <th>species</th>\n",
       "      <th>island</th>\n",
       "      <th>culmen_length_mm</th>\n",
       "      <th>culmen_depth_mm</th>\n",
       "      <th>flipper_length_mm</th>\n",
       "      <th>body_mass_g</th>\n",
       "      <th>is_male</th>\n",
       "    </tr>\n",
       "  </thead>\n",
       "  <tbody>\n",
       "    <tr>\n",
       "      <th>10</th>\n",
       "      <td>Adelie</td>\n",
       "      <td>Torgersen</td>\n",
       "      <td>38.7</td>\n",
       "      <td>19.0</td>\n",
       "      <td>195.0</td>\n",
       "      <td>3450.0</td>\n",
       "      <td>0</td>\n",
       "    </tr>\n",
       "    <tr>\n",
       "      <th>120</th>\n",
       "      <td>Adelie</td>\n",
       "      <td>Dream</td>\n",
       "      <td>36.0</td>\n",
       "      <td>17.8</td>\n",
       "      <td>195.0</td>\n",
       "      <td>3450.0</td>\n",
       "      <td>0</td>\n",
       "    </tr>\n",
       "    <tr>\n",
       "      <th>3</th>\n",
       "      <td>Adelie</td>\n",
       "      <td>Torgersen</td>\n",
       "      <td>36.7</td>\n",
       "      <td>19.3</td>\n",
       "      <td>193.0</td>\n",
       "      <td>3450.0</td>\n",
       "      <td>0</td>\n",
       "    </tr>\n",
       "    <tr>\n",
       "      <th>35</th>\n",
       "      <td>Adelie</td>\n",
       "      <td>Dream</td>\n",
       "      <td>36.0</td>\n",
       "      <td>17.9</td>\n",
       "      <td>190.0</td>\n",
       "      <td>3450.0</td>\n",
       "      <td>0</td>\n",
       "    </tr>\n",
       "    <tr>\n",
       "      <th>39</th>\n",
       "      <td>Adelie</td>\n",
       "      <td>Biscoe</td>\n",
       "      <td>35.0</td>\n",
       "      <td>17.9</td>\n",
       "      <td>190.0</td>\n",
       "      <td>3450.0</td>\n",
       "      <td>0</td>\n",
       "    </tr>\n",
       "    <tr>\n",
       "      <th>139</th>\n",
       "      <td>Chinstrap</td>\n",
       "      <td>Dream</td>\n",
       "      <td>46.4</td>\n",
       "      <td>18.6</td>\n",
       "      <td>190.0</td>\n",
       "      <td>3450.0</td>\n",
       "      <td>0</td>\n",
       "    </tr>\n",
       "  </tbody>\n",
       "</table>\n",
       "</div>"
      ],
      "text/plain": [
       "       species     island  culmen_length_mm  culmen_depth_mm  \\\n",
       "10      Adelie  Torgersen              38.7             19.0   \n",
       "120     Adelie      Dream              36.0             17.8   \n",
       "3       Adelie  Torgersen              36.7             19.3   \n",
       "35      Adelie      Dream              36.0             17.9   \n",
       "39      Adelie     Biscoe              35.0             17.9   \n",
       "139  Chinstrap      Dream              46.4             18.6   \n",
       "\n",
       "     flipper_length_mm  body_mass_g  is_male  \n",
       "10               195.0       3450.0        0  \n",
       "120              195.0       3450.0        0  \n",
       "3                193.0       3450.0        0  \n",
       "35               190.0       3450.0        0  \n",
       "39               190.0       3450.0        0  \n",
       "139              190.0       3450.0        0  "
      ]
     },
     "execution_count": 69,
     "metadata": {},
     "output_type": "execute_result"
    }
   ],
   "source": [
    "train_df.loc[close_points.index_y]"
   ]
  },
  {
   "cell_type": "markdown",
   "metadata": {},
   "source": [
    "#### 2.3. If you didn't know the species and gender of your penguin, based on its neighbours what would be your guess?"
   ]
  },
  {
   "cell_type": "markdown",
   "metadata": {},
   "source": [
    "#### 2.4. 🤔  Look at the numerical variables' scale. What feature do you think is impacting the distance the most? Should this be the case? What can we do to prevent this?"
   ]
  },
  {
   "cell_type": "markdown",
   "metadata": {},
   "source": [
    "#### (OPTIONAL) 2.5. Repeat the same exercise with different distances of your choice and compare the results."
   ]
  },
  {
   "cell_type": "markdown",
   "metadata": {},
   "source": [
    "## 3. Let's use Sklearn to predict a penguin's gender with the KNN model.\n",
    "**Steps** \n",
    " 1. Import [KNeighborsClassifier](https://scikit-learn.org/stable/modules/generated/sklearn.neighbors.KNeighborsClassifier.html) model from Sklearn. \n",
    " \n",
    " 2. Create a dataframe `X` with the numerical features and a series `y` with the target (`is_male`)\n",
    " 3. Instantiate the model `knn = KNeighborsClassifier()`\n",
    " 4. Fit it on your data.\n",
    " 5. Check what parameters `n_neighbors` and `metric` are in the documentation. What values are being used by default?\n",
    " 6. Import classification metrics of your choice from sklearn.\n",
    " 7. Use your trained model to make predictions for your dataset.\n",
    " 8. Measure your model's performance with your classification metrics. "
   ]
  },
  {
   "cell_type": "code",
   "execution_count": 71,
   "metadata": {},
   "outputs": [],
   "source": [
    "# 1, 2, 3\n",
    "from sklearn.neighbors import KNeighborsClassifier\n",
    "\n",
    "knn = KNeighborsClassifier()\n",
    "X = df_num\n",
    "y = train_df.is_male"
   ]
  },
  {
   "cell_type": "code",
   "execution_count": 72,
   "metadata": {},
   "outputs": [
    {
     "data": {
      "text/plain": [
       "KNeighborsClassifier()"
      ]
     },
     "execution_count": 72,
     "metadata": {},
     "output_type": "execute_result"
    }
   ],
   "source": [
    "# 4\n",
    "knn.fit(X,y)"
   ]
  },
  {
   "cell_type": "code",
   "execution_count": 76,
   "metadata": {},
   "outputs": [],
   "source": [
    "# 6\n",
    "from sklearn.metrics import accuracy_score, f1_score, confusion_matrix"
   ]
  },
  {
   "cell_type": "code",
   "execution_count": 77,
   "metadata": {},
   "outputs": [],
   "source": [
    "# 7\n",
    "pred = knn.predict(X)"
   ]
  },
  {
   "cell_type": "code",
   "execution_count": 78,
   "metadata": {},
   "outputs": [
    {
     "name": "stdout",
     "output_type": "stream",
     "text": [
      "Accuracy 0.8268551236749117\n",
      "F1 Score 0.8136882129277566\n"
     ]
    },
    {
     "data": {
      "text/plain": [
       "array([[127,  16],\n",
       "       [ 33, 107]])"
      ]
     },
     "execution_count": 78,
     "metadata": {},
     "output_type": "execute_result"
    }
   ],
   "source": [
    "# 8\n",
    "print('Accuracy', accuracy_score(y,pred))\n",
    "print('F1 Score', f1_score(y,pred))\n",
    "confusion_matrix(y,pred)"
   ]
  },
  {
   "cell_type": "markdown",
   "metadata": {},
   "source": [
    "## 4. Comparing different models\n",
    "\n",
    "**Steps:**\n",
    " 1. Load the test data below\n",
    " \n",
    " 2. Create variables `X_test` and `y_test`, similarly as you did before\n",
    " 3. Define different `KNeighborsClassifier` models by choosing different values for `n_neighbors` and `metric` (see available distances [here](https://scikit-learn.org/stable/modules/generated/sklearn.metrics.pairwise.distance_metrics.html#sklearn.metrics.pairwise.distance_metrics)). You should use at least 4 models: 5 and 10 neighbors with Euclidean and Manhattan distances. (Feel free to test as many as you want)\n",
    " 4. Use the provided function `get_metrics` to compare the different models.\n",
    " 5. Which parameters yields a better peformance?"
   ]
  },
  {
   "cell_type": "code",
   "execution_count": 103,
   "metadata": {},
   "outputs": [],
   "source": [
    "# Loading Test Data\n",
    "test_df = pd.read_csv('penguins_test.csv')\n",
    "\n",
    "# Function to get model's performance\n",
    "def get_metrics(list_models, train_X, train_y, test_X, test_y):\n",
    "    '''\n",
    "    Receives:\n",
    "     list_models: a list of non-trained models\n",
    "     train_X: features of the training set (dataframe or array)\n",
    "     train_y: target variable for the training set (Series or array)\n",
    "     test_X: features of the test set\n",
    "     test_y: target variable for the test set\n",
    "     \n",
    "     Outputs: a dataframe with each model, its accuracy and f1_score on the test set.\n",
    "         \n",
    "    '''\n",
    "    accuracies = []\n",
    "    f1_scores = []\n",
    "    for model in list_models:\n",
    "        model.fit(train_X,train_y)\n",
    "        pred = model.predict(test_X)\n",
    "        accuracies.append(accuracy_score(test_y,pred))\n",
    "        f1_scores.append(f1_score(test_y,pred))\n",
    "    return pd.DataFrame({'model': list_models,\n",
    "                         'accuracy': accuracies,\n",
    "                         'f1_score': f1_scores})"
   ]
  },
  {
   "cell_type": "code",
   "execution_count": null,
   "metadata": {},
   "outputs": [],
   "source": [
    "# 2\n",
    "\n",
    "X_test = test_df[numerical_columns]\n",
    "y_test = test_df.is_male"
   ]
  },
  {
   "cell_type": "code",
   "execution_count": 97,
   "metadata": {},
   "outputs": [],
   "source": [
    "# 3\n",
    "\n",
    "knn_5_l1 = KNeighborsClassifier(n_neighbors=5, metric = 'l1')\n",
    "knn_10_l1 = KNeighborsClassifier(n_neighbors=10, metric = 'l1')\n",
    "knn_20_l1 = KNeighborsClassifier(n_neighbors=20, metric = 'l1')\n",
    "\n",
    "knn_5_l2 = KNeighborsClassifier(n_neighbors=5, metric = 'l2')\n",
    "knn_10_l2 = KNeighborsClassifier(n_neighbors=10, metric = 'l2')\n",
    "knn_20_l2 = KNeighborsClassifier(n_neighbors=20, metric = 'l2')"
   ]
  },
  {
   "cell_type": "code",
   "execution_count": 95,
   "metadata": {},
   "outputs": [],
   "source": [
    "list_models  = [knn_5_l1, knn_10_l1, knn_20_l1, knn_5_l2, knn_10_l2, knn_20_l2]"
   ]
  },
  {
   "cell_type": "code",
   "execution_count": 104,
   "metadata": {},
   "outputs": [
    {
     "data": {
      "text/html": [
       "<div>\n",
       "<style scoped>\n",
       "    .dataframe tbody tr th:only-of-type {\n",
       "        vertical-align: middle;\n",
       "    }\n",
       "\n",
       "    .dataframe tbody tr th {\n",
       "        vertical-align: top;\n",
       "    }\n",
       "\n",
       "    .dataframe thead th {\n",
       "        text-align: right;\n",
       "    }\n",
       "</style>\n",
       "<table border=\"1\" class=\"dataframe\">\n",
       "  <thead>\n",
       "    <tr style=\"text-align: right;\">\n",
       "      <th></th>\n",
       "      <th>model</th>\n",
       "      <th>accuracy</th>\n",
       "      <th>f1_score</th>\n",
       "    </tr>\n",
       "  </thead>\n",
       "  <tbody>\n",
       "    <tr>\n",
       "      <th>0</th>\n",
       "      <td>KNeighborsClassifier(metric='l1')</td>\n",
       "      <td>0.80</td>\n",
       "      <td>0.821429</td>\n",
       "    </tr>\n",
       "    <tr>\n",
       "      <th>1</th>\n",
       "      <td>KNeighborsClassifier(metric='l1', n_neighbors=10)</td>\n",
       "      <td>0.84</td>\n",
       "      <td>0.851852</td>\n",
       "    </tr>\n",
       "    <tr>\n",
       "      <th>2</th>\n",
       "      <td>KNeighborsClassifier(metric='l1', n_neighbors=20)</td>\n",
       "      <td>0.74</td>\n",
       "      <td>0.779661</td>\n",
       "    </tr>\n",
       "    <tr>\n",
       "      <th>3</th>\n",
       "      <td>KNeighborsClassifier(metric='l2')</td>\n",
       "      <td>0.80</td>\n",
       "      <td>0.821429</td>\n",
       "    </tr>\n",
       "    <tr>\n",
       "      <th>4</th>\n",
       "      <td>KNeighborsClassifier(metric='l2', n_neighbors=10)</td>\n",
       "      <td>0.84</td>\n",
       "      <td>0.851852</td>\n",
       "    </tr>\n",
       "    <tr>\n",
       "      <th>5</th>\n",
       "      <td>KNeighborsClassifier(metric='l2', n_neighbors=20)</td>\n",
       "      <td>0.74</td>\n",
       "      <td>0.779661</td>\n",
       "    </tr>\n",
       "  </tbody>\n",
       "</table>\n",
       "</div>"
      ],
      "text/plain": [
       "                                               model  accuracy  f1_score\n",
       "0                  KNeighborsClassifier(metric='l1')      0.80  0.821429\n",
       "1  KNeighborsClassifier(metric='l1', n_neighbors=10)      0.84  0.851852\n",
       "2  KNeighborsClassifier(metric='l1', n_neighbors=20)      0.74  0.779661\n",
       "3                  KNeighborsClassifier(metric='l2')      0.80  0.821429\n",
       "4  KNeighborsClassifier(metric='l2', n_neighbors=10)      0.84  0.851852\n",
       "5  KNeighborsClassifier(metric='l2', n_neighbors=20)      0.74  0.779661"
      ]
     },
     "execution_count": 104,
     "metadata": {},
     "output_type": "execute_result"
    }
   ],
   "source": [
    "# 4\n",
    "\n",
    "get_metrics(list_models, X, y, X_test, y_test)"
   ]
  },
  {
   "cell_type": "markdown",
   "metadata": {},
   "source": [
    "## 5. The importance of scaling\n",
    "\n",
    "**Steps:**\n",
    " 1. Import [StandardScaler](https://scikit-learn.org/stable/modules/generated/sklearn.preprocessing.StandardScaler.html) from Sklearn\n",
    " \n",
    " 2. Instantiate (`scaler = StandardScaler()`) and fit your scaler on your training data\n",
    " 3. Create two new datasets `X_train_scaled` and `X_test_scaled` by using your scaler to `transform` your training and test data\n",
    "**🚨 You should ONLY fit your scaler on the training data. Test data is unseen data which we know nothing about at the moment of training, it will be scaled with the information we get from the training data**\n",
    " 4. Re-run your `get_metrics` function with the same models as before bu using the scaled versions of your data: `X_train_scaled` and `X_test_scaled`.\n",
    " 5. Contemplate the importance of scaling!"
   ]
  },
  {
   "cell_type": "code",
   "execution_count": 100,
   "metadata": {},
   "outputs": [],
   "source": [
    "from sklearn.preprocessing import StandardScaler\n",
    "\n",
    "scaler = StandardScaler()\n",
    "scaler.fit(X)\n",
    "X_train_scaled = scaler.transform(X)\n",
    "X_test_scaled = scaler.transform(X_test)"
   ]
  },
  {
   "cell_type": "code",
   "execution_count": 101,
   "metadata": {},
   "outputs": [
    {
     "data": {
      "text/html": [
       "<div>\n",
       "<style scoped>\n",
       "    .dataframe tbody tr th:only-of-type {\n",
       "        vertical-align: middle;\n",
       "    }\n",
       "\n",
       "    .dataframe tbody tr th {\n",
       "        vertical-align: top;\n",
       "    }\n",
       "\n",
       "    .dataframe thead th {\n",
       "        text-align: right;\n",
       "    }\n",
       "</style>\n",
       "<table border=\"1\" class=\"dataframe\">\n",
       "  <thead>\n",
       "    <tr style=\"text-align: right;\">\n",
       "      <th></th>\n",
       "      <th>model</th>\n",
       "      <th>accuracy</th>\n",
       "      <th>f1_score</th>\n",
       "    </tr>\n",
       "  </thead>\n",
       "  <tbody>\n",
       "    <tr>\n",
       "      <th>0</th>\n",
       "      <td>KNeighborsClassifier(metric='l1')</td>\n",
       "      <td>0.88</td>\n",
       "      <td>0.900000</td>\n",
       "    </tr>\n",
       "    <tr>\n",
       "      <th>1</th>\n",
       "      <td>KNeighborsClassifier(metric='l1', n_neighbors=10)</td>\n",
       "      <td>0.92</td>\n",
       "      <td>0.933333</td>\n",
       "    </tr>\n",
       "    <tr>\n",
       "      <th>2</th>\n",
       "      <td>KNeighborsClassifier(metric='l1', n_neighbors=20)</td>\n",
       "      <td>0.92</td>\n",
       "      <td>0.931034</td>\n",
       "    </tr>\n",
       "    <tr>\n",
       "      <th>3</th>\n",
       "      <td>KNeighborsClassifier(metric='l2')</td>\n",
       "      <td>0.86</td>\n",
       "      <td>0.881356</td>\n",
       "    </tr>\n",
       "    <tr>\n",
       "      <th>4</th>\n",
       "      <td>KNeighborsClassifier(metric='l2', n_neighbors=10)</td>\n",
       "      <td>0.94</td>\n",
       "      <td>0.949153</td>\n",
       "    </tr>\n",
       "    <tr>\n",
       "      <th>5</th>\n",
       "      <td>KNeighborsClassifier(metric='l2', n_neighbors=20)</td>\n",
       "      <td>0.92</td>\n",
       "      <td>0.931034</td>\n",
       "    </tr>\n",
       "  </tbody>\n",
       "</table>\n",
       "</div>"
      ],
      "text/plain": [
       "                                               model  accuracy  f1_score\n",
       "0                  KNeighborsClassifier(metric='l1')      0.88  0.900000\n",
       "1  KNeighborsClassifier(metric='l1', n_neighbors=10)      0.92  0.933333\n",
       "2  KNeighborsClassifier(metric='l1', n_neighbors=20)      0.92  0.931034\n",
       "3                  KNeighborsClassifier(metric='l2')      0.86  0.881356\n",
       "4  KNeighborsClassifier(metric='l2', n_neighbors=10)      0.94  0.949153\n",
       "5  KNeighborsClassifier(metric='l2', n_neighbors=20)      0.92  0.931034"
      ]
     },
     "execution_count": 101,
     "metadata": {},
     "output_type": "execute_result"
    }
   ],
   "source": [
    "get_metrics(list_models, X_train_scaled, y, X_test_scaled, y_test)"
   ]
  },
  {
   "cell_type": "markdown",
   "metadata": {},
   "source": [
    "## 6. Clustering with KMeans\n",
    "\n",
    "**Steps:**\n",
    " 1. Import [KMeans](https://scikit-learn.org/stable/modules/generated/sklearn.cluster.KMeans.html) from Sklearn.\n",
    " 2. Create a **for** loop that for each value of **k** between 1 and 10: \n",
    "  1. Defines `model = KMeans()` with parameter **k**\n",
    "  2. Fits model on `X_train_scaled`\n",
    "  3. Saves model's inertia (`model.inertia_`) in a list\n",
    " \n",
    " 3. Plot the values of inertia against values of k \n",
    " 4. Identify the elbow in the curve\n",
    " 5. Define and fit a KMeans with `n_clusters = 3` on `X_train_scaled`\n",
    " 6. Use your model to make predicitions on `X_train_scaled`, store the predictions on a variable named `clusters_3`\n",
    " 7. Run the following command `plt.scatter(X.culmen_depth_mm,X.culmen_length_mm, c = clusters_3)`, plotting the original's data culmen_depth_mm vs. culmen_length_mm, with each point colored according to the cluster it belongs to. \n",
    " 8. What do you think the clusters could represent? Check your original dataframe's categorical features. \n",
    " 9. Use `pd.crosstab` to compare `clusters_3` with the `island` and `species` features. Which variable do the clusters seem to be representing?\n",
    "\n",
    "**(OPTIONAL)** Repeat 5 - 8 with `n_clusters = 2` and compare predictions with the `is_male` variable. \n",
    "\n",
    "**⚠️ Remember:** Clustering is a type of Unsupervised Learning - there is **no target**. It is up to us to interpret what each cluster can represent and analyse each cluster in order to draw conclusions. "
   ]
  },
  {
   "cell_type": "code",
   "execution_count": 106,
   "metadata": {},
   "outputs": [],
   "source": [
    "# 1, 2\n",
    "\n",
    "from sklearn.cluster import KMeans\n",
    "\n",
    "list_k = np.arange(1,10)\n",
    "\n",
    "inertias = []\n",
    "for k in list_k:\n",
    "    model = KMeans(k)\n",
    "    model.fit(X_train_scaled)\n",
    "    inertias.append(model.inertia_)"
   ]
  },
  {
   "cell_type": "code",
   "execution_count": 109,
   "metadata": {},
   "outputs": [
    {
     "data": {
      "image/png": "[encoded data removed]",
      "text/plain": [
       "<Figure size 432x288 with 1 Axes>"
      ]
     },
     "metadata": {
      "needs_background": "light"
     },
     "output_type": "display_data"
    }
   ],
   "source": [
    "# 3\n",
    "\n",
    "plt.plot(list_k,inertias);"
   ]
  },
  {
   "cell_type": "code",
   "execution_count": 114,
   "metadata": {},
   "outputs": [],
   "source": [
    "# 5, 6\n",
    "\n",
    "kmeans_3 = KMeans(3)\n",
    "kmeans_3.fit(X_train_scaled)\n",
    "\n",
    "clusters_3 = kmeans_3.predict(X_train_scaled)"
   ]
  },
  {
   "cell_type": "code",
   "execution_count": 128,
   "metadata": {},
   "outputs": [
    {
     "data": {
      "image/png": "[encoded data removed]",
      "text/plain": [
       "<Figure size 432x288 with 1 Axes>"
      ]
     },
     "metadata": {
      "needs_background": "light"
     },
     "output_type": "display_data"
    }
   ],
   "source": [
    "# 7\n",
    "plt.scatter(X.culmen_depth_mm,X.culmen_length_mm, c = clusters_3);"
   ]
  },
  {
   "cell_type": "code",
   "execution_count": 129,
   "metadata": {},
   "outputs": [
    {
     "data": {
      "text/html": [
       "<div>\n",
       "<style scoped>\n",
       "    .dataframe tbody tr th:only-of-type {\n",
       "        vertical-align: middle;\n",
       "    }\n",
       "\n",
       "    .dataframe tbody tr th {\n",
       "        vertical-align: top;\n",
       "    }\n",
       "\n",
       "    .dataframe thead th {\n",
       "        text-align: right;\n",
       "    }\n",
       "</style>\n",
       "<table border=\"1\" class=\"dataframe\">\n",
       "  <thead>\n",
       "    <tr style=\"text-align: right;\">\n",
       "      <th>col_0</th>\n",
       "      <th>0</th>\n",
       "      <th>1</th>\n",
       "      <th>2</th>\n",
       "    </tr>\n",
       "    <tr>\n",
       "      <th>species</th>\n",
       "      <th></th>\n",
       "      <th></th>\n",
       "      <th></th>\n",
       "    </tr>\n",
       "  </thead>\n",
       "  <tbody>\n",
       "    <tr>\n",
       "      <th>Adelie</th>\n",
       "      <td>104</td>\n",
       "      <td>0</td>\n",
       "      <td>20</td>\n",
       "    </tr>\n",
       "    <tr>\n",
       "      <th>Chinstrap</th>\n",
       "      <td>5</td>\n",
       "      <td>0</td>\n",
       "      <td>55</td>\n",
       "    </tr>\n",
       "    <tr>\n",
       "      <th>Gentoo</th>\n",
       "      <td>0</td>\n",
       "      <td>99</td>\n",
       "      <td>0</td>\n",
       "    </tr>\n",
       "  </tbody>\n",
       "</table>\n",
       "</div>"
      ],
      "text/plain": [
       "col_0        0   1   2\n",
       "species               \n",
       "Adelie     104   0  20\n",
       "Chinstrap    5   0  55\n",
       "Gentoo       0  99   0"
      ]
     },
     "execution_count": 129,
     "metadata": {},
     "output_type": "execute_result"
    }
   ],
   "source": [
    "# 9\n",
    "pd.crosstab(train_df.species,clusters_3)"
   ]
  },
  {
   "cell_type": "code",
   "execution_count": 120,
   "metadata": {},
   "outputs": [],
   "source": [
    "# Optional\n",
    "\n",
    "kmeans_2 = KMeans(2)\n",
    "kmeans_2.fit(X_train_scaled)\n",
    "\n",
    "clusters_2 = kmeans_2.predict(X_train_scaled)\n",
    "\n",
    "pd.crosstab(y,clusters_2)"
   ]
  }
 ],
 "metadata": {
  "kernelspec": {
   "display_name": "Python 3",
   "language": "python",
   "name": "python3"
  },
  "language_info": {
   "codemirror_mode": {
    "name": "ipython",
    "version": 3
   },
   "file_extension": ".py",
   "mimetype": "text/x-python",
   "name": "python",
   "nbconvert_exporter": "python",
   "pygments_lexer": "ipython3",
   "version": "3.8.3"
  }
 },
 "nbformat": 4,
 "nbformat_minor": 4
}
